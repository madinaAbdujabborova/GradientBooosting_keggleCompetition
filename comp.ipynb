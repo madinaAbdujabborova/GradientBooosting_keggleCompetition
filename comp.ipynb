{
 "cells": [
  {
   "cell_type": "code",
   "execution_count": 54,
   "metadata": {},
   "outputs": [],
   "source": [
    "import pandas as pd\n",
    "import pandas as pd\n",
    "from sklearn.model_selection import train_test_split\n",
    "from sklearn.tree import DecisionTreeClassifier\n",
    "from sklearn.metrics import accuracy_score, roc_auc_score, roc_curve, auc\n",
    "from sklearn.preprocessing import PolynomialFeatures"
   ]
  },
  {
   "cell_type": "markdown",
   "metadata": {},
   "source": [
    "### Information of train and test datasets"
   ]
  },
  {
   "cell_type": "code",
   "execution_count": 55,
   "metadata": {},
   "outputs": [
    {
     "name": "stdout",
     "output_type": "stream",
     "text": [
      "<class 'pandas.core.frame.DataFrame'>\n",
      "RangeIndex: 15000 entries, 0 to 14999\n",
      "Data columns (total 24 columns):\n",
      " #   Column               Non-Null Count  Dtype  \n",
      "---  ------               --------------  -----  \n",
      " 0   id                   15000 non-null  int64  \n",
      " 1   age                  15000 non-null  float64\n",
      " 2   height(cm)           15000 non-null  float64\n",
      " 3   weight(kg)           15000 non-null  float64\n",
      " 4   waist(cm)            15000 non-null  float64\n",
      " 5   eyesight(left)       15000 non-null  float64\n",
      " 6   eyesight(right)      15000 non-null  float64\n",
      " 7   hearing(left)        15000 non-null  float64\n",
      " 8   hearing(right)       15000 non-null  float64\n",
      " 9   systolic             15000 non-null  float64\n",
      " 10  relaxation           15000 non-null  float64\n",
      " 11  fasting blood sugar  15000 non-null  float64\n",
      " 12  Cholesterol          15000 non-null  float64\n",
      " 13  triglyceride         15000 non-null  float64\n",
      " 14  HDL                  15000 non-null  float64\n",
      " 15  LDL                  15000 non-null  float64\n",
      " 16  hemoglobin           15000 non-null  float64\n",
      " 17  Urine protein        15000 non-null  float64\n",
      " 18  serum creatinine     15000 non-null  float64\n",
      " 19  AST                  15000 non-null  float64\n",
      " 20  ALT                  15000 non-null  float64\n",
      " 21  Gtp                  15000 non-null  float64\n",
      " 22  dental caries        15000 non-null  float64\n",
      " 23  smoking              15000 non-null  float64\n",
      "dtypes: float64(23), int64(1)\n",
      "memory usage: 2.7 MB\n"
     ]
    }
   ],
   "source": [
    "train = pd.read_csv('train.csv')\n",
    "train.info()"
   ]
  },
  {
   "cell_type": "code",
   "execution_count": 56,
   "metadata": {},
   "outputs": [
    {
     "name": "stdout",
     "output_type": "stream",
     "text": [
      "<class 'pandas.core.frame.DataFrame'>\n",
      "RangeIndex: 10000 entries, 0 to 9999\n",
      "Data columns (total 23 columns):\n",
      " #   Column               Non-Null Count  Dtype  \n",
      "---  ------               --------------  -----  \n",
      " 0   id                   10000 non-null  int64  \n",
      " 1   age                  10000 non-null  float64\n",
      " 2   height(cm)           10000 non-null  float64\n",
      " 3   weight(kg)           10000 non-null  float64\n",
      " 4   waist(cm)            10000 non-null  float64\n",
      " 5   eyesight(left)       10000 non-null  float64\n",
      " 6   eyesight(right)      10000 non-null  float64\n",
      " 7   hearing(left)        10000 non-null  float64\n",
      " 8   hearing(right)       10000 non-null  float64\n",
      " 9   systolic             10000 non-null  float64\n",
      " 10  relaxation           10000 non-null  float64\n",
      " 11  fasting blood sugar  10000 non-null  float64\n",
      " 12  Cholesterol          10000 non-null  float64\n",
      " 13  triglyceride         10000 non-null  float64\n",
      " 14  HDL                  10000 non-null  float64\n",
      " 15  LDL                  10000 non-null  float64\n",
      " 16  hemoglobin           10000 non-null  float64\n",
      " 17  Urine protein        10000 non-null  float64\n",
      " 18  serum creatinine     10000 non-null  float64\n",
      " 19  AST                  10000 non-null  float64\n",
      " 20  ALT                  10000 non-null  float64\n",
      " 21  Gtp                  10000 non-null  float64\n",
      " 22  dental caries        10000 non-null  float64\n",
      "dtypes: float64(22), int64(1)\n",
      "memory usage: 1.8 MB\n"
     ]
    }
   ],
   "source": [
    "test = pd.read_csv('test.csv')\n",
    "test.info()"
   ]
  },
  {
   "cell_type": "markdown",
   "metadata": {},
   "source": [
    "### Roc-auc score on ordinary dataset with DecisionTreeClassifier. "
   ]
  },
  {
   "cell_type": "code",
   "execution_count": 46,
   "metadata": {},
   "outputs": [
    {
     "name": "stdout",
     "output_type": "stream",
     "text": [
      "ROC train 0.7612819902188186\n",
      "ROC AUC 0.7504257003411299\n"
     ]
    }
   ],
   "source": [
    "X = train.drop('smoking', axis=1)\n",
    "y = train['smoking']\n",
    "\n",
    "X_train, X_test, y_train, y_test = train_test_split(X, y, test_size=0.2, random_state=42)\n",
    "\n",
    "model = DecisionTreeClassifier(max_depth=6, min_impurity_decrease=0.1)\n",
    "model.fit(X_train, y_train)\n",
    "y_pred = model.predict(X_test)\n",
    "y_pred_train = model.predict(X_train)\n",
    "\n",
    "acc = accuracy_score(y_test, y_pred)\n",
    "\n",
    "y_score = model.predict_proba(X_test)[:, 1]\n",
    "y_score_train = model.predict_proba(X_train)[:, 1]\n",
    "\n",
    "roc = roc_auc_score(y_test, y_score)\n",
    "roc_train = roc_auc_score(y_train, y_score_train)\n",
    "\n",
    "\n",
    "print('ROC train', roc_train)\n",
    "print('ROC AUC', roc)"
   ]
  },
  {
   "cell_type": "markdown",
   "metadata": {},
   "source": [
    "## Feature engeneering"
   ]
  },
  {
   "cell_type": "code",
   "execution_count": 57,
   "metadata": {},
   "outputs": [],
   "source": [
    "train['BMI'] = train['weight(kg)'] / (train['height(cm)']/100)**2\n",
    "test['BMI'] = test['weight(kg)'] / (test['height(cm)']/100)**2\n"
   ]
  },
  {
   "cell_type": "code",
   "execution_count": 58,
   "metadata": {},
   "outputs": [],
   "source": [
    "train = train.drop(columns=['weight(kg)', 'height(cm)'])\n",
    "test = test.drop(columns=['weight(kg)', 'height(cm)'])"
   ]
  },
  {
   "cell_type": "code",
   "execution_count": 59,
   "metadata": {},
   "outputs": [
    {
     "name": "stdout",
     "output_type": "stream",
     "text": [
      "ROC train 0.7612819902188186\n",
      "ROC AUC 0.7504257003411299\n"
     ]
    }
   ],
   "source": [
    "X = train.drop('smoking', axis=1)\n",
    "y = train['smoking']\n",
    "\n",
    "X_train, X_test, y_train, y_test = train_test_split(X, y, test_size=0.2, random_state=42)\n",
    "\n",
    "model = DecisionTreeClassifier(max_depth=6, min_impurity_decrease=0.1)\n",
    "model.fit(X_train, y_train)\n",
    "y_pred = model.predict(X_test)\n",
    "y_pred_train = model.predict(X_train)\n",
    "\n",
    "acc = accuracy_score(y_test, y_pred)\n",
    "\n",
    "y_score = model.predict_proba(X_test)[:, 1]\n",
    "y_score_train = model.predict_proba(X_train)[:, 1]\n",
    "\n",
    "roc = roc_auc_score(y_test, y_score)\n",
    "roc_train = roc_auc_score(y_train, y_score_train)\n",
    "\n",
    "\n",
    "print('ROC train', roc_train)\n",
    "print('ROC AUC', roc)"
   ]
  },
  {
   "cell_type": "markdown",
   "metadata": {},
   "source": [
    "## Submission"
   ]
  },
  {
   "cell_type": "code",
   "execution_count": 47,
   "metadata": {},
   "outputs": [],
   "source": [
    "# Get the predicted probabilities for the positive class (class 1)\n",
    "y_prob = model.predict_proba(test)[:, 1]\n",
    "\n",
    "# 12. Bashoratlarni saqlash\n",
    "subm = pd.read_csv(\"sample_submission.csv\")\n",
    "subm['smoking'] = y_prob\n",
    "subm.to_csv(\"my_submission_1.csv\", index=False)"
   ]
  }
 ],
 "metadata": {
  "kernelspec": {
   "display_name": "Python 3",
   "language": "python",
   "name": "python3"
  },
  "language_info": {
   "codemirror_mode": {
    "name": "ipython",
    "version": 3
   },
   "file_extension": ".py",
   "mimetype": "text/x-python",
   "name": "python",
   "nbconvert_exporter": "python",
   "pygments_lexer": "ipython3",
   "version": "3.12.2"
  }
 },
 "nbformat": 4,
 "nbformat_minor": 2
}

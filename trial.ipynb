{
 "cells": [
  {
   "cell_type": "code",
   "execution_count": 12,
   "metadata": {},
   "outputs": [],
   "source": [
    "import pandas as pd\n",
    "import pandas as pd\n",
    "from sklearn.model_selection import train_test_split\n",
    "from sklearn.tree import DecisionTreeClassifier\n",
    "from sklearn.metrics import accuracy_score, roc_auc_score, roc_curve, auc\n",
    "from sklearn.pipeline import Pipeline\n",
    "from sklearn.preprocessing import StandardScaler\n",
    "from sklearn.preprocessing import PolynomialFeatures\n",
    "from sklearn.linear_model import LogisticRegression"
   ]
  },
  {
   "cell_type": "code",
   "execution_count": 3,
   "metadata": {},
   "outputs": [
    {
     "name": "stdout",
     "output_type": "stream",
     "text": [
      "<class 'pandas.core.frame.DataFrame'>\n",
      "RangeIndex: 15000 entries, 0 to 14999\n",
      "Data columns (total 24 columns):\n",
      " #   Column               Non-Null Count  Dtype  \n",
      "---  ------               --------------  -----  \n",
      " 0   id                   15000 non-null  int64  \n",
      " 1   age                  15000 non-null  float64\n",
      " 2   height(cm)           15000 non-null  float64\n",
      " 3   weight(kg)           15000 non-null  float64\n",
      " 4   waist(cm)            15000 non-null  float64\n",
      " 5   eyesight(left)       15000 non-null  float64\n",
      " 6   eyesight(right)      15000 non-null  float64\n",
      " 7   hearing(left)        15000 non-null  float64\n",
      " 8   hearing(right)       15000 non-null  float64\n",
      " 9   systolic             15000 non-null  float64\n",
      " 10  relaxation           15000 non-null  float64\n",
      " 11  fasting blood sugar  15000 non-null  float64\n",
      " 12  Cholesterol          15000 non-null  float64\n",
      " 13  triglyceride         15000 non-null  float64\n",
      " 14  HDL                  15000 non-null  float64\n",
      " 15  LDL                  15000 non-null  float64\n",
      " 16  hemoglobin           15000 non-null  float64\n",
      " 17  Urine protein        15000 non-null  float64\n",
      " 18  serum creatinine     15000 non-null  float64\n",
      " 19  AST                  15000 non-null  float64\n",
      " 20  ALT                  15000 non-null  float64\n",
      " 21  Gtp                  15000 non-null  float64\n",
      " 22  dental caries        15000 non-null  float64\n",
      " 23  smoking              15000 non-null  float64\n",
      "dtypes: float64(23), int64(1)\n",
      "memory usage: 2.7 MB\n"
     ]
    }
   ],
   "source": [
    "train_df = pd.read_csv(\"train.csv\")\n",
    "train_df.info()"
   ]
  },
  {
   "cell_type": "code",
   "execution_count": 4,
   "metadata": {},
   "outputs": [],
   "source": [
    "test_df = pd.read_csv(\"test.csv\")"
   ]
  },
  {
   "cell_type": "code",
   "execution_count": 13,
   "metadata": {},
   "outputs": [],
   "source": [
    "X = train_df.drop(columns=['smoking'], axis=1)\n",
    "y = train_df['smoking']\n",
    "\n",
    "logistic_model = Pipeline([\n",
    "    ('scaler', StandardScaler()),\n",
    "    ('poly', PolynomialFeatures(degree=2)),\n",
    "    ('model', LogisticRegression(max_iter=10000,\n",
    "                                 C=0.01,\n",
    "                                 random_state=1))\n",
    "])\n",
    "\n",
    "logistic_model.fit(X, y)\n",
    "y_test_score = logistic_model.predict_proba(test_df[X.columns])[:, 1]\n",
    "\n",
    "test_df['smoking'] = y_test_score\n",
    "test_df[['id', 'smoking']].to_csv('logistic_model.csv', index=False)"
   ]
  }
 ],
 "metadata": {
  "kernelspec": {
   "display_name": "Python 3",
   "language": "python",
   "name": "python3"
  },
  "language_info": {
   "codemirror_mode": {
    "name": "ipython",
    "version": 3
   },
   "file_extension": ".py",
   "mimetype": "text/x-python",
   "name": "python",
   "nbconvert_exporter": "python",
   "pygments_lexer": "ipython3",
   "version": "3.12.2"
  }
 },
 "nbformat": 4,
 "nbformat_minor": 2
}
